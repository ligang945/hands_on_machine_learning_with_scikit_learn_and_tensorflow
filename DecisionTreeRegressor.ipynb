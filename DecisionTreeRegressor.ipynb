{
 "cells": [
  {
   "cell_type": "code",
   "execution_count": 5,
   "metadata": {},
   "outputs": [
    {
     "data": {
      "image/png": "[encoded data removed]",
      "text/plain": [
       "<Figure size 432x288 with 1 Axes>"
      ]
     },
     "metadata": {
      "needs_background": "light"
     },
     "output_type": "display_data"
    }
   ],
   "source": [
    "from itertools import product\n",
    "from numpy import *\n",
    "import numpy as np\n",
    "import matplotlib.pyplot as plt\n",
    "\n",
    "from sklearn import datasets\n",
    "from sklearn.tree import DecisionTreeRegressor\n",
    "\n",
    "x = np.linspace(1,10,10)\n",
    "X = mat(x).T\n",
    "\n",
    "y = [5.56,5.70,5.91,6.40,6.80,7.05,8.90,8.70,9.00,9.05]\n",
    "Y = mat(y).T\n",
    "\n",
    "# 训练模型，限制树的最大深度4\n",
    "clf = DecisionTreeRegressor(max_depth=5)\n",
    "#拟合模型\n",
    "clf.fit(X, Y)\n",
    "\n",
    "p = np.linspace(1,10,1000)\n",
    "q=[]\n",
    "for m in p:\n",
    "    q.append(clf.predict(m.reshape(1, -1)))\n",
    "\n",
    "plt.plot(x, y, 'or')\n",
    "plt.plot(p, q)\n",
    "\n",
    "plt.show()"
   ]
  },
  {
   "cell_type": "code",
   "execution_count": null,
   "metadata": {},
   "outputs": [],
   "source": []
  }
 ],
 "metadata": {
  "kernelspec": {
   "display_name": "Python 3",
   "language": "python",
   "name": "python3"
  },
  "language_info": {
   "codemirror_mode": {
    "name": "ipython",
    "version": 3
   },
   "file_extension": ".py",
   "mimetype": "text/x-python",
   "name": "python",
   "nbconvert_exporter": "python",
   "pygments_lexer": "ipython3",
   "version": "3.7.1"
  }
 },
 "nbformat": 4,
 "nbformat_minor": 2
}
